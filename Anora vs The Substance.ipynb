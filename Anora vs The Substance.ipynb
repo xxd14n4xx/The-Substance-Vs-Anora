{
 "cells": [
  {
   "cell_type": "code",
   "execution_count": 48,
   "metadata": {},
   "outputs": [
    {
     "name": "stdout",
     "output_type": "stream",
     "text": [
      "Requirement already satisfied: requests in c:\\users\\candy\\appdata\\local\\programs\\python\\python312\\lib\\site-packages (2.32.3)\n",
      "Requirement already satisfied: beautifulsoup4 in c:\\users\\candy\\appdata\\local\\programs\\python\\python312\\lib\\site-packages (4.13.3)\n",
      "Requirement already satisfied: textblob in c:\\users\\candy\\appdata\\local\\programs\\python\\python312\\lib\\site-packages (0.19.0)\n",
      "Requirement already satisfied: charset-normalizer<4,>=2 in c:\\users\\candy\\appdata\\local\\programs\\python\\python312\\lib\\site-packages (from requests) (3.4.1)\n",
      "Requirement already satisfied: idna<4,>=2.5 in c:\\users\\candy\\appdata\\local\\programs\\python\\python312\\lib\\site-packages (from requests) (3.10)\n",
      "Requirement already satisfied: urllib3<3,>=1.21.1 in c:\\users\\candy\\appdata\\local\\programs\\python\\python312\\lib\\site-packages (from requests) (2.3.0)\n",
      "Requirement already satisfied: certifi>=2017.4.17 in c:\\users\\candy\\appdata\\local\\programs\\python\\python312\\lib\\site-packages (from requests) (2025.1.31)\n",
      "Requirement already satisfied: soupsieve>1.2 in c:\\users\\candy\\appdata\\local\\programs\\python\\python312\\lib\\site-packages (from beautifulsoup4) (2.6)\n",
      "Requirement already satisfied: typing-extensions>=4.0.0 in c:\\users\\candy\\appdata\\local\\programs\\python\\python312\\lib\\site-packages (from beautifulsoup4) (4.13.1)\n",
      "Requirement already satisfied: nltk>=3.9 in c:\\users\\candy\\appdata\\local\\programs\\python\\python312\\lib\\site-packages (from textblob) (3.9.1)\n",
      "Requirement already satisfied: click in c:\\users\\candy\\appdata\\local\\programs\\python\\python312\\lib\\site-packages (from nltk>=3.9->textblob) (8.1.8)\n",
      "Requirement already satisfied: joblib in c:\\users\\candy\\appdata\\local\\programs\\python\\python312\\lib\\site-packages (from nltk>=3.9->textblob) (1.4.2)\n",
      "Requirement already satisfied: regex>=2021.8.3 in c:\\users\\candy\\appdata\\local\\programs\\python\\python312\\lib\\site-packages (from nltk>=3.9->textblob) (2024.11.6)\n",
      "Requirement already satisfied: tqdm in c:\\users\\candy\\appdata\\local\\programs\\python\\python312\\lib\\site-packages (from nltk>=3.9->textblob) (4.67.1)\n",
      "Requirement already satisfied: colorama in c:\\users\\candy\\appdata\\roaming\\python\\python312\\site-packages (from click->nltk>=3.9->textblob) (0.4.6)\n",
      "Note: you may need to restart the kernel to use updated packages.\n"
     ]
    },
    {
     "name": "stderr",
     "output_type": "stream",
     "text": [
      "\n",
      "[notice] A new release of pip is available: 24.2 -> 25.0.1\n",
      "[notice] To update, run: python.exe -m pip install --upgrade pip\n"
     ]
    }
   ],
   "source": [
    "\n",
    "pip install requests beautifulsoup4 textblob"
   ]
  },
  {
   "cell_type": "code",
   "execution_count": 49,
   "metadata": {},
   "outputs": [],
   "source": [
    "import requests\n",
    "from bs4 import BeautifulSoup"
   ]
  },
  {
   "cell_type": "code",
   "execution_count": 50,
   "metadata": {},
   "outputs": [
    {
     "name": "stdout",
     "output_type": "stream",
     "text": [
      "Found 12 reviews.\n"
     ]
    }
   ],
   "source": [
    "import requests\n",
    "from bs4 import BeautifulSoup\n",
    "\n",
    "def scrape_letterboxd_reviews(url):\n",
    "    response = requests.get(url)\n",
    "    soup = BeautifulSoup(response.content, 'html.parser')\n",
    "    reviews = soup.find_all(\"div\", class_=\"body-text -prose js-review-body js-collapsible-text\")\n",
    "\n",
    "    review_texts = []\n",
    "    for review in reviews:\n",
    "        review_text = review.get_text(strip=True)\n",
    "        review_texts.append(review_text)\n",
    "\n",
    "    return review_texts\n",
    "\n",
    "url = \"https://letterboxd.com/film/anora/reviews/by/added/\"\n",
    "reviews = scrape_letterboxd_reviews(url)\n",
    "\n",
    "print(f\"Found {len(reviews)} reviews.\")"
   ]
  },
  {
   "cell_type": "code",
   "execution_count": 51,
   "metadata": {},
   "outputs": [],
   "source": [
    "from textblob import TextBlob\n",
    "\n",
    "def analyze_sentiment(reviews):\n",
    "    sentiments = []\n",
    "    for review in reviews:\n",
    "        blob = TextBlob(review)\n",
    "        sentiment_polarity = blob.sentiment.polarity\n",
    "        sentiments.append(sentiment_polarity)\n",
    "    return sentiments\n"
   ]
  },
  {
   "cell_type": "code",
   "execution_count": 52,
   "metadata": {},
   "outputs": [
    {
     "name": "stdout",
     "output_type": "stream",
     "text": [
      "Review 1:\n",
      "Text: f u vanyaaa, his mother also. poor anora, she is loosing her fairytale ending cryy cryyy. This color grading of this film and little interaction between anora and igor i love it that cute they deserve a happy ending together hmmzz\n",
      "Sentiment Score = 0.2425\n",
      "\n",
      "Review 2:\n",
      "Text: mikey madison 1000% deserved her oscar for this. for anyone who thinks otherwise, you’re crazy! she did phenomenal in this movie, and carried the entire storyline by herself. it’s a classic tale of an exotic dancer girl falling for a rich party lifestyle guy, and the relationship goes downhill fast by the end. definitely recommend if you love mikey.\n",
      "Sentiment Score = 0.16574074074074074\n",
      "\n",
      "Review 3:\n",
      "Text: Hear me out\n",
      "Sentiment Score = 0.0\n",
      "\n",
      "Review 4:\n",
      "Text: Meh\n",
      "Sentiment Score = 0.0\n",
      "\n",
      "Review 5:\n",
      "Text: the male gaze as a film. one of those movies that feel completely pointless. the movie is called anora and yet the whole film is centered around the childish walking ick that i absolutely couldn’t stand!! sloppy lazy corny tacky SHIT #truth #girlstandup\n",
      "Sentiment Score = -0.10052083333333334\n",
      "\n",
      "Review 6:\n",
      "Text: best actress oscar was well deserved\n",
      "Sentiment Score = 1.0\n",
      "\n",
      "Review 7:\n",
      "Text: I will never stop recommending this film. funny, iconic, ironic and heartbreaking 10/10\n",
      "Sentiment Score = 0.31666666666666665\n",
      "\n",
      "Review 8:\n",
      "Text: love! sean baker is so good at creating a movie where it feels like the vibe is the main focus. plus, the soundtrack?! slutpop is always music to my ears.\n",
      "Sentiment Score = 0.5111111111111111\n",
      "\n",
      "Review 9:\n",
      "Text: a twink and a woman who got overly sexualized by her director!!!!\n",
      "Sentiment Score = 0.0\n",
      "\n",
      "Review 10:\n",
      "Text: muy divertida. la gente es una rayada\n",
      "Sentiment Score = 0.0\n",
      "\n",
      "Review 11:\n",
      "Text: The ending left me with an emptiness — the movie is just so good, and Mikey Madison’s performance is amazing.\n",
      "Sentiment Score = 0.43333333333333335\n",
      "\n",
      "Review 12:\n",
      "Text: The end scene was devastatingly relatable.\n",
      "Sentiment Score = -1.0\n",
      "\n"
     ]
    }
   ],
   "source": [
    "sentiments = analyze_sentiment(reviews)\n",
    "\n",
    "# Printing all reviews with their sentiment scores\n",
    "for i, (review, sentiment) in enumerate(zip(reviews, sentiments)):\n",
    "    print(f\"Review {i+1}:\")\n",
    "    print(f\"Text: {review}\")\n",
    "    print(f\"Sentiment Score = {sentiment}\\n\")"
   ]
  },
  {
   "cell_type": "code",
   "execution_count": null,
   "metadata": {},
   "outputs": [],
   "source": []
  }
 ],
 "metadata": {
  "kernelspec": {
   "display_name": "Python 3",
   "language": "python",
   "name": "python3"
  },
  "language_info": {
   "codemirror_mode": {
    "name": "ipython",
    "version": 3
   },
   "file_extension": ".py",
   "mimetype": "text/x-python",
   "name": "python",
   "nbconvert_exporter": "python",
   "pygments_lexer": "ipython3",
   "version": "3.12.7"
  }
 },
 "nbformat": 4,
 "nbformat_minor": 2
}
